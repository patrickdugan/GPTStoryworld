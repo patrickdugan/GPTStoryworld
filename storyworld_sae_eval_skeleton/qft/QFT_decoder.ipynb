
{
 "cells": [
  {
   "cell_type": "markdown",
   "metadata": {},
   "source": [
    "# QFT / PCA Spectral Decoder — Prototype\n",
    "Load run logs (JSONL), compute simple DFT features over turn embeddings, and reduce with PCA to produce spectral motif cards."
   ]
  },
  {
   "cell_type": "code",
   "execution_count": null,
   "metadata": {},
   "outputs": [],
   "source": [
    "import json, numpy as np, os, glob\\n",
    "from pathlib import Path\\n",
    "from sklearn.decomposition import PCA\\n",
    "from numpy.fft import rfft\\n",
    "\\n",
    "# Stub: load toy turn vectors from a JSONL file\\n",
    "def load_runs(path):\\n",
    "    X = []\\n",
    "    for p in glob.glob(os.path.join(path, '*.jsonl')):\\n",
    "        with open(p) as f:\\n",
    "            turns = [json.loads(line)['vec'] for line in f]\\n",
    "            X.append(np.array(turns))\\n",
    "    return X\\n",
    "\\n",
    "def spectral_features(run_mat):\\n",
    "    # run_mat: T x d\\n",
    "    # windowless DFT per dim (prototype)\\n",
    "    spec = np.abs(rfft(run_mat, axis=0))\\n",
    "    # aggregate power across dims\\n",
    "    power = spec.mean(axis=1)  # freq_bins\\n",
    "    return power\\n",
    "\\n",
    "def cards_from_runs(runs):\\n",
    "    feats = [spectral_features(r) for r in runs]\\n",
    "    # pad to equal length\\n",
    "    L = max(len(f) for f in feats)\\n",
    "    feats = [np.pad(f, (0, L - len(f))) for f in feats]\\n",
    "    M = np.vstack(feats)\\n",
    "    pca = PCA(n_components=8).fit(M)\\n",
    "    Z = pca.transform(M)\\n",
    "    cards = [{\"card_id\": f\"card_{i}\", \"z\": Z[i].tolist()} for i in range(len(feats))]\\n",
    "    return cards\\n",
    "\\n",
    "# Example usage (expects qft/logs/*.jsonl with {'vec': [...]} per line)\\n",
    "logs_dir = str(Path(__file__).parent / 'logs')\\n",
    "os.makedirs(logs_dir, exist_ok=True)\\n",
    "runs = load_runs(logs_dir) if os.listdir(logs_dir) else [np.random.randn(128, 32) for _ in range(4)]\\n",
    "cards = cards_from_runs(runs)\\n",
    "cards[:2]"
   ]
  }
 ],
 "metadata": {
  "kernelspec": {
   "display_name": "Python 3",
   "language": "python",
   "name": "python3"
  },
  "language_info": {
   "name": "python",
   "version": "3.x"
  }
 },
 "nbformat": 4,
 "nbformat_minor": 5
}
